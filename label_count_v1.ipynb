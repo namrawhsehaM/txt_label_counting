{
 "cells": [
  {
   "cell_type": "code",
   "execution_count": 9,
   "metadata": {},
   "outputs": [
    {
     "name": "stdout",
     "output_type": "stream",
     "text": [
      "[('0', 21), ('2', 12), ('3', 7), ('4', 6), ('5', 9), ('6', 13), ('7', 6), ('8', 34), ('9', 1)]\n"
     ]
    }
   ],
   "source": [
    "import os\n",
    "\n",
    "labels = ['0','1','2','3','4','5','6','7','8','9']\n",
    "first_letters = []\n",
    "filepath = list()\n",
    "\n",
    "dir = \"\"\n",
    "\n",
    "# D:\\data_repo\\ppe\\images+labels\n",
    "\n",
    "for file in os.listdir(dir):\n",
    "    if file.endswith(\".txt\"):\n",
    "        filepath.append(os.path.join(dir, file))\n",
    "\n",
    "for txt_file in filepath:\n",
    "    # read the first character on each line of txt\n",
    "    with open(txt_file, 'r') as f:\n",
    "        for line in f:\n",
    "            first_letters.append(line[0])\n",
    "\n",
    "#  get the frequency of labels\n",
    "res = {}\n",
    "for char in \"\".join(first_letters):\n",
    "    if char in labels:\n",
    "        if char in res:\n",
    "            res[char] += 1\n",
    "        else:\n",
    "            res[char] = 1\n",
    "             \n",
    "# printing result\n",
    "sorted_res = sorted(res.items(), key=lambda x: x[0])\n",
    "print(sorted_res)"
   ]
  }
 ],
 "metadata": {
  "kernelspec": {
   "display_name": "ppe",
   "language": "python",
   "name": "python3"
  },
  "language_info": {
   "codemirror_mode": {
    "name": "ipython",
    "version": 3
   },
   "file_extension": ".py",
   "mimetype": "text/x-python",
   "name": "python",
   "nbconvert_exporter": "python",
   "pygments_lexer": "ipython3",
   "version": "3.10.14"
  }
 },
 "nbformat": 4,
 "nbformat_minor": 2
}
